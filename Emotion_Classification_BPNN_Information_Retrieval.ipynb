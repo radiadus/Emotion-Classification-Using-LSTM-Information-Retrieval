{
  "cells": [
    {
      "cell_type": "markdown",
      "metadata": {
        "id": "view-in-github",
        "colab_type": "text"
      },
      "source": [
        "<a href=\"https://colab.research.google.com/github/radiadus/Emotion-Classification-Using-LSTM-Information-Retrieval/blob/main/Emotion_Classification_BPNN_Information_Retrieval.ipynb\" target=\"_parent\"><img src=\"https://colab.research.google.com/assets/colab-badge.svg\" alt=\"Open In Colab\"/></a>"
      ]
    },
    {
      "cell_type": "markdown",
      "source": [
        "Import libraries yang diperlukan (Pandas, Numpy, Re, NLTK, Tensorflow, Keras, Sklearn)"
      ],
      "metadata": {
        "id": "sMH8lFpe61NU"
      },
      "id": "sMH8lFpe61NU"
    },
    {
      "cell_type": "code",
      "execution_count": null,
      "id": "8dde5b8d",
      "metadata": {
        "id": "8dde5b8d"
      },
      "outputs": [],
      "source": [
        "import pandas as pd\n",
        "import numpy as np\n",
        "import re\n",
        "import nltk\n",
        "from nltk.corpus import stopwords\n",
        "import tensorflow as tf\n",
        "from keras.preprocessing.text import Tokenizer\n",
        "from keras.preprocessing.sequence import pad_sequences\n",
        "from sklearn.preprocessing import OneHotEncoder\n",
        "from sklearn.utils import resample"
      ]
    },
    {
      "cell_type": "markdown",
      "source": [
        "Melakukan read file CSV yang berisi 21.459 Data dan terdiri dari 6 labels"
      ],
      "metadata": {
        "id": "IsIlljtZ7FSm"
      },
      "id": "IsIlljtZ7FSm"
    },
    {
      "cell_type": "code",
      "execution_count": null,
      "id": "bcecb843",
      "metadata": {
        "id": "bcecb843",
        "outputId": "81f47fdb-792f-41a9-b417-cb4ae9d5cf67"
      },
      "outputs": [
        {
          "name": "stdout",
          "output_type": "stream",
          "text": [
            "<class 'pandas.core.frame.DataFrame'>\n",
            "RangeIndex: 21459 entries, 0 to 21458\n",
            "Data columns (total 2 columns):\n",
            " #   Column   Non-Null Count  Dtype \n",
            "---  ------   --------------  ----- \n",
            " 0   Text     21459 non-null  object\n",
            " 1   Emotion  21459 non-null  object\n",
            "dtypes: object(2)\n",
            "memory usage: 335.4+ KB\n"
          ]
        }
      ],
      "source": [
        "df = pd.read_csv('Emotion_final.csv')\n",
        "df.info()"
      ]
    },
    {
      "cell_type": "code",
      "execution_count": null,
      "id": "612f46bf",
      "metadata": {
        "id": "612f46bf",
        "outputId": "e78f2144-10cc-4858-b399-e396f5366e1a"
      },
      "outputs": [
        {
          "data": {
            "text/plain": [
              "happy       7029\n",
              "sadness     6265\n",
              "anger       2993\n",
              "fear        2652\n",
              "love        1641\n",
              "surprise     879\n",
              "Name: Emotion, dtype: int64"
            ]
          },
          "execution_count": 3,
          "metadata": {},
          "output_type": "execute_result"
        }
      ],
      "source": [
        "df.Emotion.value_counts()"
      ]
    },
    {
      "cell_type": "markdown",
      "source": [
        "Memisahkan Data berdasarkan label emosi dan menaruhnya pada variabel baru. Kemudian dilakukan resample untuk setiap jenis data kecuali label happy agar jumlah data untuk setiap label menjadi sama seperti jumlah data pada label happy (7.029 data)."
      ],
      "metadata": {
        "id": "NcbkU3up7PmE"
      },
      "id": "NcbkU3up7PmE"
    },
    {
      "cell_type": "code",
      "execution_count": null,
      "id": "ba073095",
      "metadata": {
        "id": "ba073095"
      },
      "outputs": [],
      "source": [
        "happy = df.loc[df.Emotion == \"happy\"]\n",
        "sadness = df.loc[df.Emotion == \"sadness\"]\n",
        "anger = df.loc[df.Emotion == \"anger\"]\n",
        "fear = df.loc[df.Emotion == \"fear\"]\n",
        "love = df.loc[df.Emotion == \"love\"]\n",
        "surprise = df.loc[df.Emotion == \"surprise\"]"
      ]
    },
    {
      "cell_type": "code",
      "execution_count": null,
      "id": "62f0c68e",
      "metadata": {
        "id": "62f0c68e"
      },
      "outputs": [],
      "source": [
        "sadness = resample(sadness, replace=True, n_samples=len(happy), random_state=42)\n",
        "anger = resample(anger, replace=True, n_samples=len(happy), random_state=42)\n",
        "fear = resample(fear, replace=True, n_samples=len(happy), random_state=42)\n",
        "love = resample(love, replace=True, n_samples=len(happy), random_state=42)\n",
        "surprise = resample(surprise, replace=True, n_samples=len(happy), random_state=42)"
      ]
    },
    {
      "cell_type": "code",
      "execution_count": null,
      "id": "5b904a44",
      "metadata": {
        "id": "5b904a44",
        "outputId": "134bfbbd-8a7d-45b2-dc65-6924740228ad"
      },
      "outputs": [
        {
          "data": {
            "text/html": [
              "<div>\n",
              "<style scoped>\n",
              "    .dataframe tbody tr th:only-of-type {\n",
              "        vertical-align: middle;\n",
              "    }\n",
              "\n",
              "    .dataframe tbody tr th {\n",
              "        vertical-align: top;\n",
              "    }\n",
              "\n",
              "    .dataframe thead th {\n",
              "        text-align: right;\n",
              "    }\n",
              "</style>\n",
              "<table border=\"1\" class=\"dataframe\">\n",
              "  <thead>\n",
              "    <tr style=\"text-align: right;\">\n",
              "      <th></th>\n",
              "      <th>Text</th>\n",
              "      <th>Emotion</th>\n",
              "    </tr>\n",
              "  </thead>\n",
              "  <tbody>\n",
              "    <tr>\n",
              "      <th>6414</th>\n",
              "      <td>i surmise that after i have made myself sick o...</td>\n",
              "      <td>anger</td>\n",
              "    </tr>\n",
              "    <tr>\n",
              "      <th>9617</th>\n",
              "      <td>i still feel so irritable every day</td>\n",
              "      <td>anger</td>\n",
              "    </tr>\n",
              "    <tr>\n",
              "      <th>8318</th>\n",
              "      <td>im exhausted in excruciating pain and feeling ...</td>\n",
              "      <td>anger</td>\n",
              "    </tr>\n",
              "    <tr>\n",
              "      <th>8037</th>\n",
              "      <td>i will try not to feel rushed along with other...</td>\n",
              "      <td>anger</td>\n",
              "    </tr>\n",
              "    <tr>\n",
              "      <th>12163</th>\n",
              "      <td>i keep waiting for some grand stroke of wisdom...</td>\n",
              "      <td>anger</td>\n",
              "    </tr>\n",
              "    <tr>\n",
              "      <th>...</th>\n",
              "      <td>...</td>\n",
              "      <td>...</td>\n",
              "    </tr>\n",
              "    <tr>\n",
              "      <th>2379</th>\n",
              "      <td>i ate feeling hateful towards myself because o...</td>\n",
              "      <td>anger</td>\n",
              "    </tr>\n",
              "    <tr>\n",
              "      <th>4584</th>\n",
              "      <td>i know that i still feel kind of agitated but ...</td>\n",
              "      <td>anger</td>\n",
              "    </tr>\n",
              "    <tr>\n",
              "      <th>19985</th>\n",
              "      <td>i started to see a concerning pattern i d rush...</td>\n",
              "      <td>anger</td>\n",
              "    </tr>\n",
              "    <tr>\n",
              "      <th>4</th>\n",
              "      <td>i am feeling grouchy</td>\n",
              "      <td>anger</td>\n",
              "    </tr>\n",
              "    <tr>\n",
              "      <th>7525</th>\n",
              "      <td>i can t relax my heart skips a beat now and th...</td>\n",
              "      <td>anger</td>\n",
              "    </tr>\n",
              "  </tbody>\n",
              "</table>\n",
              "<p>7029 rows × 2 columns</p>\n",
              "</div>"
            ],
            "text/plain": [
              "                                                    Text Emotion\n",
              "6414   i surmise that after i have made myself sick o...   anger\n",
              "9617                 i still feel so irritable every day   anger\n",
              "8318   im exhausted in excruciating pain and feeling ...   anger\n",
              "8037   i will try not to feel rushed along with other...   anger\n",
              "12163  i keep waiting for some grand stroke of wisdom...   anger\n",
              "...                                                  ...     ...\n",
              "2379   i ate feeling hateful towards myself because o...   anger\n",
              "4584   i know that i still feel kind of agitated but ...   anger\n",
              "19985  i started to see a concerning pattern i d rush...   anger\n",
              "4                                   i am feeling grouchy   anger\n",
              "7525   i can t relax my heart skips a beat now and th...   anger\n",
              "\n",
              "[7029 rows x 2 columns]"
            ]
          },
          "execution_count": 6,
          "metadata": {},
          "output_type": "execute_result"
        }
      ],
      "source": [
        "anger"
      ]
    },
    {
      "cell_type": "markdown",
      "source": [
        "Setelah itu semua data digabungkan kembali menjadi satu dan ditaruh pada variabel df."
      ],
      "metadata": {
        "id": "StkNEF3o8ABP"
      },
      "id": "StkNEF3o8ABP"
    },
    {
      "cell_type": "code",
      "execution_count": null,
      "id": "63e386a9",
      "metadata": {
        "id": "63e386a9",
        "outputId": "632fcb2c-58e3-4e70-b5ad-b379711b39ae"
      },
      "outputs": [
        {
          "data": {
            "text/html": [
              "<div>\n",
              "<style scoped>\n",
              "    .dataframe tbody tr th:only-of-type {\n",
              "        vertical-align: middle;\n",
              "    }\n",
              "\n",
              "    .dataframe tbody tr th {\n",
              "        vertical-align: top;\n",
              "    }\n",
              "\n",
              "    .dataframe thead th {\n",
              "        text-align: right;\n",
              "    }\n",
              "</style>\n",
              "<table border=\"1\" class=\"dataframe\">\n",
              "  <thead>\n",
              "    <tr style=\"text-align: right;\">\n",
              "      <th></th>\n",
              "      <th>Text</th>\n",
              "      <th>Emotion</th>\n",
              "    </tr>\n",
              "  </thead>\n",
              "  <tbody>\n",
              "    <tr>\n",
              "      <th>8</th>\n",
              "      <td>i have been with petronas for years i feel tha...</td>\n",
              "      <td>happy</td>\n",
              "    </tr>\n",
              "    <tr>\n",
              "      <th>11</th>\n",
              "      <td>i do feel that running is a divine experience ...</td>\n",
              "      <td>happy</td>\n",
              "    </tr>\n",
              "    <tr>\n",
              "      <th>14</th>\n",
              "      <td>i have immense sympathy with the general point...</td>\n",
              "      <td>happy</td>\n",
              "    </tr>\n",
              "    <tr>\n",
              "      <th>15</th>\n",
              "      <td>i do not feel reassured anxiety is on each side</td>\n",
              "      <td>happy</td>\n",
              "    </tr>\n",
              "    <tr>\n",
              "      <th>22</th>\n",
              "      <td>i have the feeling she was amused and delighted</td>\n",
              "      <td>happy</td>\n",
              "    </tr>\n",
              "    <tr>\n",
              "      <th>...</th>\n",
              "      <td>...</td>\n",
              "      <td>...</td>\n",
              "    </tr>\n",
              "    <tr>\n",
              "      <th>3702</th>\n",
              "      <td>i look back on that i feel amazed that at such...</td>\n",
              "      <td>surprise</td>\n",
              "    </tr>\n",
              "    <tr>\n",
              "      <th>7818</th>\n",
              "      <td>i feel so amazed seeing chiangmai</td>\n",
              "      <td>surprise</td>\n",
              "    </tr>\n",
              "    <tr>\n",
              "      <th>19817</th>\n",
              "      <td>i feel dazed and empty and like somthing is mi...</td>\n",
              "      <td>surprise</td>\n",
              "    </tr>\n",
              "    <tr>\n",
              "      <th>15470</th>\n",
              "      <td>i feel funny just calling it a film</td>\n",
              "      <td>surprise</td>\n",
              "    </tr>\n",
              "    <tr>\n",
              "      <th>20816</th>\n",
              "      <td>He paused as his mother stared at him in bewild</td>\n",
              "      <td>surprise</td>\n",
              "    </tr>\n",
              "  </tbody>\n",
              "</table>\n",
              "<p>42174 rows × 2 columns</p>\n",
              "</div>"
            ],
            "text/plain": [
              "                                                    Text   Emotion\n",
              "8      i have been with petronas for years i feel tha...     happy\n",
              "11     i do feel that running is a divine experience ...     happy\n",
              "14     i have immense sympathy with the general point...     happy\n",
              "15       i do not feel reassured anxiety is on each side     happy\n",
              "22       i have the feeling she was amused and delighted     happy\n",
              "...                                                  ...       ...\n",
              "3702   i look back on that i feel amazed that at such...  surprise\n",
              "7818                   i feel so amazed seeing chiangmai  surprise\n",
              "19817  i feel dazed and empty and like somthing is mi...  surprise\n",
              "15470                i feel funny just calling it a film  surprise\n",
              "20816    He paused as his mother stared at him in bewild  surprise\n",
              "\n",
              "[42174 rows x 2 columns]"
            ]
          },
          "execution_count": 7,
          "metadata": {},
          "output_type": "execute_result"
        }
      ],
      "source": [
        "df = pd.concat([happy, sadness, anger, fear, love, surprise])\n",
        "df"
      ]
    },
    {
      "cell_type": "markdown",
      "source": [
        "Saat ini seluruh label emosi sudah memiliki jumlah data yang sama."
      ],
      "metadata": {
        "id": "4dgk0LXq8L0o"
      },
      "id": "4dgk0LXq8L0o"
    },
    {
      "cell_type": "code",
      "execution_count": null,
      "id": "f2cab53b",
      "metadata": {
        "id": "f2cab53b",
        "outputId": "cf56abdb-5e27-4dbf-f1a1-141040083b17"
      },
      "outputs": [
        {
          "data": {
            "text/plain": [
              "anger       7029\n",
              "love        7029\n",
              "surprise    7029\n",
              "fear        7029\n",
              "happy       7029\n",
              "sadness     7029\n",
              "Name: Emotion, dtype: int64"
            ]
          },
          "execution_count": 8,
          "metadata": {},
          "output_type": "execute_result"
        }
      ],
      "source": [
        "df.Emotion.value_counts()"
      ]
    },
    {
      "cell_type": "markdown",
      "source": [
        "Memisahkan features dan target dari dataset"
      ],
      "metadata": {
        "id": "DLTwF04E8acH"
      },
      "id": "DLTwF04E8acH"
    },
    {
      "cell_type": "code",
      "execution_count": null,
      "id": "552acddc",
      "metadata": {
        "id": "552acddc",
        "outputId": "cbb87139-2d90-4f92-f8c8-615c46578cb5"
      },
      "outputs": [
        {
          "data": {
            "text/plain": [
              "8        i have been with petronas for years i feel tha...\n",
              "11       i do feel that running is a divine experience ...\n",
              "14       i have immense sympathy with the general point...\n",
              "15         i do not feel reassured anxiety is on each side\n",
              "22         i have the feeling she was amused and delighted\n",
              "                               ...                        \n",
              "3702     i look back on that i feel amazed that at such...\n",
              "7818                     i feel so amazed seeing chiangmai\n",
              "19817    i feel dazed and empty and like somthing is mi...\n",
              "15470                  i feel funny just calling it a film\n",
              "20816      He paused as his mother stared at him in bewild\n",
              "Name: Text, Length: 42174, dtype: object"
            ]
          },
          "execution_count": 9,
          "metadata": {},
          "output_type": "execute_result"
        }
      ],
      "source": [
        "features = df.Text\n",
        "features"
      ]
    },
    {
      "cell_type": "code",
      "execution_count": null,
      "id": "f6076eec",
      "metadata": {
        "id": "f6076eec",
        "outputId": "24cb599d-993f-480c-e01f-ca10da37fdb5"
      },
      "outputs": [
        {
          "data": {
            "text/plain": [
              "8           happy\n",
              "11          happy\n",
              "14          happy\n",
              "15          happy\n",
              "22          happy\n",
              "           ...   \n",
              "3702     surprise\n",
              "7818     surprise\n",
              "19817    surprise\n",
              "15470    surprise\n",
              "20816    surprise\n",
              "Name: Emotion, Length: 42174, dtype: object"
            ]
          },
          "execution_count": 10,
          "metadata": {},
          "output_type": "execute_result"
        }
      ],
      "source": [
        "target = df.Emotion\n",
        "target"
      ]
    },
    {
      "cell_type": "markdown",
      "source": [
        "Mengubah features dan target menjadi numpy array untuk dipakai pada proses selanjutnya"
      ],
      "metadata": {
        "id": "sG-ohdXF8eZm"
      },
      "id": "sG-ohdXF8eZm"
    },
    {
      "cell_type": "code",
      "execution_count": null,
      "id": "8ea6e971",
      "metadata": {
        "id": "8ea6e971"
      },
      "outputs": [],
      "source": [
        "features = np.array(features)\n",
        "target = np.array(target)"
      ]
    },
    {
      "cell_type": "code",
      "execution_count": null,
      "id": "3e4e8e6c",
      "metadata": {
        "id": "3e4e8e6c",
        "outputId": "b4955613-4fa7-447a-a2bc-ba78890fe75b"
      },
      "outputs": [
        {
          "name": "stdout",
          "output_type": "stream",
          "text": [
            "(42174,)\n"
          ]
        }
      ],
      "source": [
        "print(target.shape)"
      ]
    },
    {
      "cell_type": "markdown",
      "source": [
        "Melakukan data cleaning dengan melakukan\n",
        "\n",
        "\n",
        "*   mengubah huruf menjadi lowercase\n",
        "*   mengganti simbol pada dataset\n",
        "*   menghapus stopwords\n",
        "\n"
      ],
      "metadata": {
        "id": "Sot2uxqi8k4R"
      },
      "id": "Sot2uxqi8k4R"
    },
    {
      "cell_type": "code",
      "execution_count": null,
      "id": "fe24a746",
      "metadata": {
        "id": "fe24a746"
      },
      "outputs": [],
      "source": [
        "REPLACE_BY_SPACE_RE = re.compile('[/(){}\\[\\]\\|@,;]')\n",
        "BAD_SYMBOLS_RE = re.compile('[^0-9a-z #+_]')\n",
        "STOPWORDS = set(stopwords.words('english'))\n",
        "\n",
        "def clean_text(text):\n",
        "    text = text.lower()\n",
        "    text = REPLACE_BY_SPACE_RE.sub(' ', text)\n",
        "    text = BAD_SYMBOLS_RE.sub('', text)\n",
        "    text = ' '.join(word for word in text.split() if word not in STOPWORDS)\n",
        "    return text"
      ]
    },
    {
      "cell_type": "code",
      "execution_count": null,
      "id": "8cff0ee7",
      "metadata": {
        "id": "8cff0ee7"
      },
      "outputs": [],
      "source": [
        "for i in range(len(features)):\n",
        "    features[i] = clean_text(features[i])"
      ]
    },
    {
      "cell_type": "markdown",
      "source": [
        "Salah satu kalimat setelah dilakukan data cleaning"
      ],
      "metadata": {
        "id": "b9Omv4OH9Tfv"
      },
      "id": "b9Omv4OH9Tfv"
    },
    {
      "cell_type": "code",
      "execution_count": null,
      "id": "ed8c9e3f",
      "metadata": {
        "id": "ed8c9e3f",
        "outputId": "46a4894a-15ff-4c49-8160-f62f96e0062f"
      },
      "outputs": [
        {
          "name": "stdout",
          "output_type": "stream",
          "text": [
            "feel running divine experience expect type spiritual encounter\n"
          ]
        }
      ],
      "source": [
        "print(features[1])"
      ]
    },
    {
      "cell_type": "markdown",
      "source": [
        "Membuat tokenizer untuk features"
      ],
      "metadata": {
        "id": "8rgKzs2O9Y5o"
      },
      "id": "8rgKzs2O9Y5o"
    },
    {
      "cell_type": "code",
      "execution_count": null,
      "id": "b93a0cfb",
      "metadata": {
        "id": "b93a0cfb",
        "outputId": "8987d489-5059-4f53-be5c-442462017794"
      },
      "outputs": [
        {
          "name": "stdout",
          "output_type": "stream",
          "text": [
            "Found 17923 unique tokens.\n"
          ]
        }
      ],
      "source": [
        "MAX_NB_WORDS = 20000\n",
        "MAX_SEQUENCE_LENGTH = 20\n",
        "EMBEDDING_DIM = 100\n",
        "\n",
        "tokenizer = Tokenizer(num_words=MAX_NB_WORDS, filters='!\"#$%&()*+,-./:;<=>?@[\\]^_`{|}~', lower=True)\n",
        "\n",
        "tokenizer.fit_on_texts(features)\n",
        "word_index = tokenizer.word_index\n",
        "print('Found %s unique tokens.' % len(word_index))"
      ]
    },
    {
      "cell_type": "markdown",
      "source": [
        "Mengubah tokenizer pada features menjadi data tensor"
      ],
      "metadata": {
        "id": "9IAv4FV29jvS"
      },
      "id": "9IAv4FV29jvS"
    },
    {
      "cell_type": "code",
      "execution_count": null,
      "id": "314060c4",
      "metadata": {
        "id": "314060c4",
        "outputId": "803dc354-14a0-434d-959f-fff494dad3e4"
      },
      "outputs": [
        {
          "name": "stdout",
          "output_type": "stream",
          "text": [
            "Shape of data tensor: (42174, 20)\n"
          ]
        }
      ],
      "source": [
        "features = tokenizer.texts_to_sequences(features)\n",
        "features = pad_sequences(features, maxlen=MAX_SEQUENCE_LENGTH)\n",
        "print('Shape of data tensor:', features.shape)"
      ]
    },
    {
      "cell_type": "markdown",
      "source": [
        "Mengubah bentuk target menjadi array katogerial dengan bantuan OneHotEncoder"
      ],
      "metadata": {
        "id": "qAItrtZH9qYA"
      },
      "id": "qAItrtZH9qYA"
    },
    {
      "cell_type": "code",
      "execution_count": null,
      "id": "345d31d4",
      "metadata": {
        "id": "345d31d4",
        "outputId": "0d3cf340-b509-4517-8002-f4a054626a24"
      },
      "outputs": [
        {
          "data": {
            "text/plain": [
              "(42174, 6)"
            ]
          },
          "execution_count": 18,
          "metadata": {},
          "output_type": "execute_result"
        }
      ],
      "source": [
        "target = np.reshape(target, (-1, 1))\n",
        "target = OneHotEncoder(sparse=False).fit_transform(target)\n",
        "target.shape"
      ]
    },
    {
      "cell_type": "markdown",
      "source": [
        "Split dataset menjadi 80% training dan 20% testing"
      ],
      "metadata": {
        "id": "hlo89fC89yCu"
      },
      "id": "hlo89fC89yCu"
    },
    {
      "cell_type": "code",
      "execution_count": null,
      "id": "6c99e289",
      "metadata": {
        "id": "6c99e289",
        "outputId": "e00a021e-ee63-4b08-e330-6b7dc47640b8"
      },
      "outputs": [
        {
          "name": "stdout",
          "output_type": "stream",
          "text": [
            "(33739, 20) (33739, 6)\n",
            "(8435, 20) (8435, 6)\n"
          ]
        }
      ],
      "source": [
        "from sklearn.model_selection import train_test_split\n",
        "X_train, X_test, Y_train, Y_test = train_test_split(features,target, test_size = 0.2)\n",
        "print(X_train.shape,Y_train.shape)\n",
        "print(X_test.shape,Y_test.shape)"
      ]
    },
    {
      "cell_type": "markdown",
      "source": [
        "Membuat arsitektur model, melakukan training, dan save model pada variabel history"
      ],
      "metadata": {
        "id": "cTubqtSR93DR"
      },
      "id": "cTubqtSR93DR"
    },
    {
      "cell_type": "code",
      "execution_count": null,
      "id": "1dae6ccb",
      "metadata": {
        "id": "1dae6ccb",
        "outputId": "dd7a6fbf-e26d-4aef-ab30-d529c2affca0"
      },
      "outputs": [
        {
          "name": "stdout",
          "output_type": "stream",
          "text": [
            "Epoch 1/10\n",
            "475/475 [==============================] - 5s 8ms/step - loss: 1.0629 - accuracy: 0.6630 - val_loss: 0.3038 - val_accuracy: 0.9188\n",
            "Epoch 2/10\n",
            "475/475 [==============================] - 3s 7ms/step - loss: 0.1535 - accuracy: 0.9605 - val_loss: 0.1398 - val_accuracy: 0.9573\n",
            "Epoch 3/10\n",
            "475/475 [==============================] - 4s 8ms/step - loss: 0.0562 - accuracy: 0.9858 - val_loss: 0.1235 - val_accuracy: 0.9597\n",
            "Epoch 4/10\n",
            "475/475 [==============================] - 4s 8ms/step - loss: 0.0302 - accuracy: 0.9930 - val_loss: 0.1233 - val_accuracy: 0.9609\n",
            "Epoch 5/10\n",
            "475/475 [==============================] - 4s 8ms/step - loss: 0.0212 - accuracy: 0.9946 - val_loss: 0.1260 - val_accuracy: 0.9624\n",
            "Epoch 6/10\n",
            "475/475 [==============================] - 4s 9ms/step - loss: 0.0164 - accuracy: 0.9958 - val_loss: 0.1309 - val_accuracy: 0.9603\n",
            "Epoch 7/10\n",
            "475/475 [==============================] - 4s 8ms/step - loss: 0.0125 - accuracy: 0.9964 - val_loss: 0.1369 - val_accuracy: 0.9606\n",
            "Epoch 8/10\n",
            "475/475 [==============================] - 4s 8ms/step - loss: 0.0117 - accuracy: 0.9969 - val_loss: 0.1452 - val_accuracy: 0.9606\n",
            "Epoch 9/10\n",
            "475/475 [==============================] - 4s 8ms/step - loss: 0.0105 - accuracy: 0.9969 - val_loss: 0.1562 - val_accuracy: 0.9591\n",
            "Epoch 10/10\n",
            "475/475 [==============================] - 4s 8ms/step - loss: 0.0096 - accuracy: 0.9971 - val_loss: 0.1707 - val_accuracy: 0.9564\n"
          ]
        }
      ],
      "source": [
        "from keras.models import Sequential\n",
        "from keras.layers import Embedding, SpatialDropout1D, Dense, Flatten\n",
        "\n",
        "model = Sequential()\n",
        "model.add(Embedding(MAX_NB_WORDS, EMBEDDING_DIM, input_length=X_train.shape[1]))\n",
        "model.add(SpatialDropout1D(0.2))\n",
        "model.add(Flatten())\n",
        "model.add(Dense(100, activation='sigmoid'))\n",
        "model.add(Dense(6, activation='softmax'))\n",
        "model.compile(loss='categorical_crossentropy', optimizer='adam', metrics=['accuracy'])\n",
        "\n",
        "epochs = 10\n",
        "batch_size = 64\n",
        "\n",
        "history = model.fit(X_train, Y_train, epochs=epochs, batch_size=batch_size,validation_split=0.1)"
      ]
    },
    {
      "cell_type": "markdown",
      "source": [
        "Melakukan testing"
      ],
      "metadata": {
        "id": "4mNWO1wH-BTe"
      },
      "id": "4mNWO1wH-BTe"
    },
    {
      "cell_type": "code",
      "execution_count": null,
      "id": "ac0944b3",
      "metadata": {
        "id": "ac0944b3",
        "outputId": "4ae4ceab-4605-4592-f77c-547cf88099a0"
      },
      "outputs": [
        {
          "name": "stdout",
          "output_type": "stream",
          "text": [
            "264/264 [==============================] - 1s 4ms/step - loss: 0.2242 - accuracy: 0.9438\n",
            "Test set\n",
            "  Loss: 0.224\n",
            "  Accuracy: 0.944\n"
          ]
        }
      ],
      "source": [
        "accr = model.evaluate(X_test,Y_test)\n",
        "print('Test set\\n  Loss: {:0.3f}\\n  Accuracy: {:0.3f}'.format(accr[0],accr[1]))"
      ]
    },
    {
      "cell_type": "markdown",
      "source": [
        "Plotting grafik loss hasil training"
      ],
      "metadata": {
        "id": "PAVT3quh-JFD"
      },
      "id": "PAVT3quh-JFD"
    },
    {
      "cell_type": "code",
      "execution_count": null,
      "id": "6095a53e",
      "metadata": {
        "id": "6095a53e",
        "outputId": "52cf8df4-a164-443b-b668-667b47cbedc3"
      },
      "outputs": [
        {
          "data": {
            "image/png": "[encoded data removed]",
            "text/plain": [
              "<Figure size 432x288 with 1 Axes>"
            ]
          },
          "metadata": {
            "needs_background": "light"
          },
          "output_type": "display_data"
        }
      ],
      "source": [
        "from matplotlib import pyplot as plt\n",
        "plt.title('Loss')\n",
        "plt.plot(history.history['loss'], label='train')\n",
        "plt.plot(history.history['val_loss'], label='test')\n",
        "plt.legend()\n",
        "plt.show()"
      ]
    },
    {
      "cell_type": "markdown",
      "source": [
        "Plotting grafik akurasi hasil training"
      ],
      "metadata": {
        "id": "Uelz3yG1-Mkl"
      },
      "id": "Uelz3yG1-Mkl"
    },
    {
      "cell_type": "code",
      "execution_count": null,
      "id": "fb38c7bc",
      "metadata": {
        "id": "fb38c7bc",
        "outputId": "7ff7bf1a-cd71-4dfa-b745-1b0379a76c2e"
      },
      "outputs": [
        {
          "data": {
            "image/png": "[encoded data removed]",
            "text/plain": [
              "<Figure size 432x288 with 1 Axes>"
            ]
          },
          "metadata": {
            "needs_background": "light"
          },
          "output_type": "display_data"
        }
      ],
      "source": [
        "plt.title('Accuracy')\n",
        "plt.plot(history.history['accuracy'], label='train')\n",
        "plt.plot(history.history['val_accuracy'], label='test')\n",
        "plt.legend()\n",
        "plt.show();"
      ]
    },
    {
      "cell_type": "code",
      "execution_count": null,
      "id": "c16b8460",
      "metadata": {
        "id": "c16b8460"
      },
      "outputs": [],
      "source": [
        ""
      ]
    }
  ],
  "metadata": {
    "kernelspec": {
      "display_name": "Python 3",
      "language": "python",
      "name": "python3"
    },
    "language_info": {
      "codemirror_mode": {
        "name": "ipython",
        "version": 3
      },
      "file_extension": ".py",
      "mimetype": "text/x-python",
      "name": "python",
      "nbconvert_exporter": "python",
      "pygments_lexer": "ipython3",
      "version": "3.7.6"
    },
    "colab": {
      "name": "Emotion Classification BPNN - Information Retrieval.ipynb",
      "provenance": [],
      "collapsed_sections": [],
      "include_colab_link": true
    }
  },
  "nbformat": 4,
  "nbformat_minor": 5
}