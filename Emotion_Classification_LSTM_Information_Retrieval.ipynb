{
  "cells": [
    {
      "cell_type": "markdown",
      "metadata": {
        "id": "view-in-github",
        "colab_type": "text"
      },
      "source": [
        "<a href=\"https://colab.research.google.com/github/radiadus/Emotion-Classification-Using-LSTM-Information-Retrieval/blob/main/Emotion_Classification_LSTM_Information_Retrieval.ipynb\" target=\"_parent\"><img src=\"https://colab.research.google.com/assets/colab-badge.svg\" alt=\"Open In Colab\"/></a>"
      ]
    },
    {
      "cell_type": "markdown",
      "source": [
        "Import libraries yang diperlukan (Pandas, Numpy, Re, NLTK, Tensorflow, Keras, Sklearn)"
      ],
      "metadata": {
        "id": "sMH8lFpe61NU"
      },
      "id": "sMH8lFpe61NU"
    },
    {
      "cell_type": "code",
      "execution_count": null,
      "id": "8dde5b8d",
      "metadata": {
        "id": "8dde5b8d"
      },
      "outputs": [],
      "source": [
        "import pandas as pd\n",
        "import numpy as np\n",
        "import re\n",
        "import nltk\n",
        "from nltk.corpus import stopwords\n",
        "import tensorflow as tf\n",
        "from keras.preprocessing.text import Tokenizer\n",
        "from keras.preprocessing.sequence import pad_sequences\n",
        "from sklearn.preprocessing import OneHotEncoder\n",
        "from sklearn.utils import resample"
      ]
    },
    {
      "cell_type": "markdown",
      "source": [
        "Melakukan read file CSV yang berisi 21.459 Data dan terdiri dari 6 labels"
      ],
      "metadata": {
        "id": "IsIlljtZ7FSm"
      },
      "id": "IsIlljtZ7FSm"
    },
    {
      "cell_type": "code",
      "execution_count": null,
      "id": "bcecb843",
      "metadata": {
        "id": "bcecb843",
        "outputId": "f4e6a4b7-4dd7-4012-860c-ba31ad4f60e5"
      },
      "outputs": [
        {
          "name": "stdout",
          "output_type": "stream",
          "text": [
            "<class 'pandas.core.frame.DataFrame'>\n",
            "RangeIndex: 21459 entries, 0 to 21458\n",
            "Data columns (total 2 columns):\n",
            " #   Column   Non-Null Count  Dtype \n",
            "---  ------   --------------  ----- \n",
            " 0   Text     21459 non-null  object\n",
            " 1   Emotion  21459 non-null  object\n",
            "dtypes: object(2)\n",
            "memory usage: 335.4+ KB\n"
          ]
        }
      ],
      "source": [
        "df = pd.read_csv('Emotion_final.csv')\n",
        "df.info()"
      ]
    },
    {
      "cell_type": "code",
      "execution_count": null,
      "id": "612f46bf",
      "metadata": {
        "id": "612f46bf",
        "outputId": "0285a1f6-22eb-4fb6-8ce3-3423f432c248"
      },
      "outputs": [
        {
          "data": {
            "text/plain": [
              "happy       7029\n",
              "sadness     6265\n",
              "anger       2993\n",
              "fear        2652\n",
              "love        1641\n",
              "surprise     879\n",
              "Name: Emotion, dtype: int64"
            ]
          },
          "execution_count": 3,
          "metadata": {},
          "output_type": "execute_result"
        }
      ],
      "source": [
        "df.Emotion.value_counts()"
      ]
    },
    {
      "cell_type": "markdown",
      "source": [
        "Memisahkan Data berdasarkan label emosi dan menaruhnya pada variabel baru. Kemudian dilakukan resample untuk setiap jenis data kecuali label happy agar jumlah data untuk setiap label menjadi sama seperti jumlah data pada label happy (7.029 data)."
      ],
      "metadata": {
        "id": "NcbkU3up7PmE"
      },
      "id": "NcbkU3up7PmE"
    },
    {
      "cell_type": "code",
      "execution_count": null,
      "id": "ba073095",
      "metadata": {
        "id": "ba073095"
      },
      "outputs": [],
      "source": [
        "happy = df.loc[df.Emotion == \"happy\"]\n",
        "sadness = df.loc[df.Emotion == \"sadness\"]\n",
        "anger = df.loc[df.Emotion == \"anger\"]\n",
        "fear = df.loc[df.Emotion == \"fear\"]\n",
        "love = df.loc[df.Emotion == \"love\"]\n",
        "surprise = df.loc[df.Emotion == \"surprise\"]"
      ]
    },
    {
      "cell_type": "code",
      "execution_count": null,
      "id": "dc3c770f",
      "metadata": {
        "id": "dc3c770f"
      },
      "outputs": [],
      "source": [
        "sadness = resample(sadness, replace=True, n_samples=len(happy), random_state=42)\n",
        "anger = resample(anger, replace=True, n_samples=len(happy), random_state=42)\n",
        "fear = resample(fear, replace=True, n_samples=len(happy), random_state=42)\n",
        "love = resample(love, replace=True, n_samples=len(happy), random_state=42)\n",
        "surprise = resample(surprise, replace=True, n_samples=len(happy), random_state=42)"
      ]
    },
    {
      "cell_type": "code",
      "execution_count": null,
      "id": "97d86c2d",
      "metadata": {
        "id": "97d86c2d",
        "outputId": "4b48b3bb-7915-4792-c51b-1f5c8fd950ed"
      },
      "outputs": [
        {
          "data": {
            "text/html": [
              "<div>\n",
              "<style scoped>\n",
              "    .dataframe tbody tr th:only-of-type {\n",
              "        vertical-align: middle;\n",
              "    }\n",
              "\n",
              "    .dataframe tbody tr th {\n",
              "        vertical-align: top;\n",
              "    }\n",
              "\n",
              "    .dataframe thead th {\n",
              "        text-align: right;\n",
              "    }\n",
              "</style>\n",
              "<table border=\"1\" class=\"dataframe\">\n",
              "  <thead>\n",
              "    <tr style=\"text-align: right;\">\n",
              "      <th></th>\n",
              "      <th>Text</th>\n",
              "      <th>Emotion</th>\n",
              "    </tr>\n",
              "  </thead>\n",
              "  <tbody>\n",
              "    <tr>\n",
              "      <th>6414</th>\n",
              "      <td>i surmise that after i have made myself sick o...</td>\n",
              "      <td>anger</td>\n",
              "    </tr>\n",
              "    <tr>\n",
              "      <th>9617</th>\n",
              "      <td>i still feel so irritable every day</td>\n",
              "      <td>anger</td>\n",
              "    </tr>\n",
              "    <tr>\n",
              "      <th>8318</th>\n",
              "      <td>im exhausted in excruciating pain and feeling ...</td>\n",
              "      <td>anger</td>\n",
              "    </tr>\n",
              "    <tr>\n",
              "      <th>8037</th>\n",
              "      <td>i will try not to feel rushed along with other...</td>\n",
              "      <td>anger</td>\n",
              "    </tr>\n",
              "    <tr>\n",
              "      <th>12163</th>\n",
              "      <td>i keep waiting for some grand stroke of wisdom...</td>\n",
              "      <td>anger</td>\n",
              "    </tr>\n",
              "    <tr>\n",
              "      <th>...</th>\n",
              "      <td>...</td>\n",
              "      <td>...</td>\n",
              "    </tr>\n",
              "    <tr>\n",
              "      <th>2379</th>\n",
              "      <td>i ate feeling hateful towards myself because o...</td>\n",
              "      <td>anger</td>\n",
              "    </tr>\n",
              "    <tr>\n",
              "      <th>4584</th>\n",
              "      <td>i know that i still feel kind of agitated but ...</td>\n",
              "      <td>anger</td>\n",
              "    </tr>\n",
              "    <tr>\n",
              "      <th>19985</th>\n",
              "      <td>i started to see a concerning pattern i d rush...</td>\n",
              "      <td>anger</td>\n",
              "    </tr>\n",
              "    <tr>\n",
              "      <th>4</th>\n",
              "      <td>i am feeling grouchy</td>\n",
              "      <td>anger</td>\n",
              "    </tr>\n",
              "    <tr>\n",
              "      <th>7525</th>\n",
              "      <td>i can t relax my heart skips a beat now and th...</td>\n",
              "      <td>anger</td>\n",
              "    </tr>\n",
              "  </tbody>\n",
              "</table>\n",
              "<p>7029 rows × 2 columns</p>\n",
              "</div>"
            ],
            "text/plain": [
              "                                                    Text Emotion\n",
              "6414   i surmise that after i have made myself sick o...   anger\n",
              "9617                 i still feel so irritable every day   anger\n",
              "8318   im exhausted in excruciating pain and feeling ...   anger\n",
              "8037   i will try not to feel rushed along with other...   anger\n",
              "12163  i keep waiting for some grand stroke of wisdom...   anger\n",
              "...                                                  ...     ...\n",
              "2379   i ate feeling hateful towards myself because o...   anger\n",
              "4584   i know that i still feel kind of agitated but ...   anger\n",
              "19985  i started to see a concerning pattern i d rush...   anger\n",
              "4                                   i am feeling grouchy   anger\n",
              "7525   i can t relax my heart skips a beat now and th...   anger\n",
              "\n",
              "[7029 rows x 2 columns]"
            ]
          },
          "execution_count": 6,
          "metadata": {},
          "output_type": "execute_result"
        }
      ],
      "source": [
        "anger"
      ]
    },
    {
      "cell_type": "markdown",
      "source": [
        "Setelah itu semua data digabungkan kembali menjadi satu dan ditaruh pada variabel df."
      ],
      "metadata": {
        "id": "StkNEF3o8ABP"
      },
      "id": "StkNEF3o8ABP"
    },
    {
      "cell_type": "code",
      "execution_count": null,
      "id": "0c6b160d",
      "metadata": {
        "id": "0c6b160d",
        "outputId": "9c4d9bd4-cd3e-406b-9109-ac0ff8d1b3cb"
      },
      "outputs": [
        {
          "data": {
            "text/html": [
              "<div>\n",
              "<style scoped>\n",
              "    .dataframe tbody tr th:only-of-type {\n",
              "        vertical-align: middle;\n",
              "    }\n",
              "\n",
              "    .dataframe tbody tr th {\n",
              "        vertical-align: top;\n",
              "    }\n",
              "\n",
              "    .dataframe thead th {\n",
              "        text-align: right;\n",
              "    }\n",
              "</style>\n",
              "<table border=\"1\" class=\"dataframe\">\n",
              "  <thead>\n",
              "    <tr style=\"text-align: right;\">\n",
              "      <th></th>\n",
              "      <th>Text</th>\n",
              "      <th>Emotion</th>\n",
              "    </tr>\n",
              "  </thead>\n",
              "  <tbody>\n",
              "    <tr>\n",
              "      <th>8</th>\n",
              "      <td>i have been with petronas for years i feel tha...</td>\n",
              "      <td>happy</td>\n",
              "    </tr>\n",
              "    <tr>\n",
              "      <th>11</th>\n",
              "      <td>i do feel that running is a divine experience ...</td>\n",
              "      <td>happy</td>\n",
              "    </tr>\n",
              "    <tr>\n",
              "      <th>14</th>\n",
              "      <td>i have immense sympathy with the general point...</td>\n",
              "      <td>happy</td>\n",
              "    </tr>\n",
              "    <tr>\n",
              "      <th>15</th>\n",
              "      <td>i do not feel reassured anxiety is on each side</td>\n",
              "      <td>happy</td>\n",
              "    </tr>\n",
              "    <tr>\n",
              "      <th>22</th>\n",
              "      <td>i have the feeling she was amused and delighted</td>\n",
              "      <td>happy</td>\n",
              "    </tr>\n",
              "    <tr>\n",
              "      <th>...</th>\n",
              "      <td>...</td>\n",
              "      <td>...</td>\n",
              "    </tr>\n",
              "    <tr>\n",
              "      <th>3702</th>\n",
              "      <td>i look back on that i feel amazed that at such...</td>\n",
              "      <td>surprise</td>\n",
              "    </tr>\n",
              "    <tr>\n",
              "      <th>7818</th>\n",
              "      <td>i feel so amazed seeing chiangmai</td>\n",
              "      <td>surprise</td>\n",
              "    </tr>\n",
              "    <tr>\n",
              "      <th>19817</th>\n",
              "      <td>i feel dazed and empty and like somthing is mi...</td>\n",
              "      <td>surprise</td>\n",
              "    </tr>\n",
              "    <tr>\n",
              "      <th>15470</th>\n",
              "      <td>i feel funny just calling it a film</td>\n",
              "      <td>surprise</td>\n",
              "    </tr>\n",
              "    <tr>\n",
              "      <th>20816</th>\n",
              "      <td>He paused as his mother stared at him in bewild</td>\n",
              "      <td>surprise</td>\n",
              "    </tr>\n",
              "  </tbody>\n",
              "</table>\n",
              "<p>42174 rows × 2 columns</p>\n",
              "</div>"
            ],
            "text/plain": [
              "                                                    Text   Emotion\n",
              "8      i have been with petronas for years i feel tha...     happy\n",
              "11     i do feel that running is a divine experience ...     happy\n",
              "14     i have immense sympathy with the general point...     happy\n",
              "15       i do not feel reassured anxiety is on each side     happy\n",
              "22       i have the feeling she was amused and delighted     happy\n",
              "...                                                  ...       ...\n",
              "3702   i look back on that i feel amazed that at such...  surprise\n",
              "7818                   i feel so amazed seeing chiangmai  surprise\n",
              "19817  i feel dazed and empty and like somthing is mi...  surprise\n",
              "15470                i feel funny just calling it a film  surprise\n",
              "20816    He paused as his mother stared at him in bewild  surprise\n",
              "\n",
              "[42174 rows x 2 columns]"
            ]
          },
          "execution_count": 7,
          "metadata": {},
          "output_type": "execute_result"
        }
      ],
      "source": [
        "df = pd.concat([happy, sadness, anger, fear, love, surprise])\n",
        "df"
      ]
    },
    {
      "cell_type": "markdown",
      "source": [
        "Saat ini seluruh label emosi sudah memiliki jumlah data yang sama."
      ],
      "metadata": {
        "id": "4dgk0LXq8L0o"
      },
      "id": "4dgk0LXq8L0o"
    },
    {
      "cell_type": "code",
      "execution_count": null,
      "id": "f2cab53b",
      "metadata": {
        "id": "f2cab53b",
        "outputId": "8b6422d8-ef9a-4a23-89f1-a21bfd57f4c2"
      },
      "outputs": [
        {
          "data": {
            "text/plain": [
              "fear        7029\n",
              "sadness     7029\n",
              "happy       7029\n",
              "love        7029\n",
              "surprise    7029\n",
              "anger       7029\n",
              "Name: Emotion, dtype: int64"
            ]
          },
          "execution_count": 8,
          "metadata": {},
          "output_type": "execute_result"
        }
      ],
      "source": [
        "df.Emotion.value_counts()"
      ]
    },
    {
      "cell_type": "markdown",
      "source": [
        "Memisahkan features dan target dari dataset"
      ],
      "metadata": {
        "id": "DLTwF04E8acH"
      },
      "id": "DLTwF04E8acH"
    },
    {
      "cell_type": "code",
      "execution_count": null,
      "id": "552acddc",
      "metadata": {
        "id": "552acddc",
        "outputId": "ed844e8c-f21d-46d8-b6bd-61967276fb60"
      },
      "outputs": [
        {
          "data": {
            "text/plain": [
              "8        i have been with petronas for years i feel tha...\n",
              "11       i do feel that running is a divine experience ...\n",
              "14       i have immense sympathy with the general point...\n",
              "15         i do not feel reassured anxiety is on each side\n",
              "22         i have the feeling she was amused and delighted\n",
              "                               ...                        \n",
              "3702     i look back on that i feel amazed that at such...\n",
              "7818                     i feel so amazed seeing chiangmai\n",
              "19817    i feel dazed and empty and like somthing is mi...\n",
              "15470                  i feel funny just calling it a film\n",
              "20816      He paused as his mother stared at him in bewild\n",
              "Name: Text, Length: 42174, dtype: object"
            ]
          },
          "execution_count": 9,
          "metadata": {},
          "output_type": "execute_result"
        }
      ],
      "source": [
        "features = df.Text\n",
        "features"
      ]
    },
    {
      "cell_type": "code",
      "execution_count": null,
      "id": "68b54b67",
      "metadata": {
        "id": "68b54b67",
        "outputId": "05e8d9ae-627d-4376-cfcc-ab05fb3b9076"
      },
      "outputs": [
        {
          "data": {
            "text/plain": [
              "8           happy\n",
              "11          happy\n",
              "14          happy\n",
              "15          happy\n",
              "22          happy\n",
              "           ...   \n",
              "3702     surprise\n",
              "7818     surprise\n",
              "19817    surprise\n",
              "15470    surprise\n",
              "20816    surprise\n",
              "Name: Emotion, Length: 42174, dtype: object"
            ]
          },
          "execution_count": 10,
          "metadata": {},
          "output_type": "execute_result"
        }
      ],
      "source": [
        "target = df.Emotion\n",
        "target"
      ]
    },
    {
      "cell_type": "markdown",
      "source": [
        "Mengubah features dan target menjadi numpy array untuk dipakai pada proses selanjutnya"
      ],
      "metadata": {
        "id": "sG-ohdXF8eZm"
      },
      "id": "sG-ohdXF8eZm"
    },
    {
      "cell_type": "code",
      "execution_count": null,
      "id": "8ea6e971",
      "metadata": {
        "id": "8ea6e971"
      },
      "outputs": [],
      "source": [
        "features = np.array(features)\n",
        "target = np.array(target)"
      ]
    },
    {
      "cell_type": "code",
      "execution_count": null,
      "id": "3e4e8e6c",
      "metadata": {
        "id": "3e4e8e6c",
        "outputId": "29bbad58-d69d-4c0d-e27f-bd787791a2b0"
      },
      "outputs": [
        {
          "name": "stdout",
          "output_type": "stream",
          "text": [
            "(42174,)\n"
          ]
        }
      ],
      "source": [
        "print(target.shape)"
      ]
    },
    {
      "cell_type": "markdown",
      "source": [
        "Melakukan data cleaning dengan melakukan\n",
        "\n",
        "\n",
        "*   mengubah huruf menjadi lowercase\n",
        "*   mengganti simbol pada dataset\n",
        "*   menghapus stopwords\n",
        "\n"
      ],
      "metadata": {
        "id": "Sot2uxqi8k4R"
      },
      "id": "Sot2uxqi8k4R"
    },
    {
      "cell_type": "code",
      "execution_count": null,
      "id": "fe24a746",
      "metadata": {
        "id": "fe24a746"
      },
      "outputs": [],
      "source": [
        "REPLACE_BY_SPACE_RE = re.compile('[/(){}\\[\\]\\|@,;]')\n",
        "BAD_SYMBOLS_RE = re.compile('[^0-9a-z #+_]')\n",
        "STOPWORDS = set(stopwords.words('english'))\n",
        "\n",
        "def clean_text(text):\n",
        "    text = text.lower()\n",
        "    text = REPLACE_BY_SPACE_RE.sub(' ', text)\n",
        "    text = BAD_SYMBOLS_RE.sub('', text)\n",
        "    text = ' '.join(word for word in text.split() if word not in STOPWORDS)\n",
        "    return text"
      ]
    },
    {
      "cell_type": "code",
      "execution_count": null,
      "id": "8cff0ee7",
      "metadata": {
        "id": "8cff0ee7"
      },
      "outputs": [],
      "source": [
        "for i in range(len(features)):\n",
        "    features[i] = clean_text(features[i])"
      ]
    },
    {
      "cell_type": "markdown",
      "source": [
        "Salah satu kalimat setelah dilakukan data cleaning"
      ],
      "metadata": {
        "id": "b9Omv4OH9Tfv"
      },
      "id": "b9Omv4OH9Tfv"
    },
    {
      "cell_type": "code",
      "execution_count": null,
      "id": "ed8c9e3f",
      "metadata": {
        "id": "ed8c9e3f",
        "outputId": "aeb550d4-abde-43c6-c3aa-3b048c857e27"
      },
      "outputs": [
        {
          "name": "stdout",
          "output_type": "stream",
          "text": [
            "feel running divine experience expect type spiritual encounter\n"
          ]
        }
      ],
      "source": [
        "print(features[1])"
      ]
    },
    {
      "cell_type": "markdown",
      "source": [
        "Membuat tokenizer untuk features"
      ],
      "metadata": {
        "id": "8rgKzs2O9Y5o"
      },
      "id": "8rgKzs2O9Y5o"
    },
    {
      "cell_type": "code",
      "execution_count": null,
      "id": "b93a0cfb",
      "metadata": {
        "id": "b93a0cfb",
        "outputId": "b2de1b56-9b13-476e-a501-914463aa8afe"
      },
      "outputs": [
        {
          "name": "stdout",
          "output_type": "stream",
          "text": [
            "Found 17923 unique tokens.\n"
          ]
        }
      ],
      "source": [
        "MAX_NB_WORDS = 20000\n",
        "MAX_SEQUENCE_LENGTH = 20\n",
        "EMBEDDING_DIM = 100\n",
        "\n",
        "tokenizer = Tokenizer(num_words=MAX_NB_WORDS, filters='!\"#$%&()*+,-./:;<=>?@[\\]^_`{|}~', lower=True)\n",
        "\n",
        "tokenizer.fit_on_texts(features)\n",
        "word_index = tokenizer.word_index\n",
        "print('Found %s unique tokens.' % len(word_index))"
      ]
    },
    {
      "cell_type": "markdown",
      "source": [
        "Mengubah tokenizer pada features menjadi data tensor"
      ],
      "metadata": {
        "id": "9IAv4FV29jvS"
      },
      "id": "9IAv4FV29jvS"
    },
    {
      "cell_type": "code",
      "execution_count": null,
      "id": "314060c4",
      "metadata": {
        "id": "314060c4",
        "outputId": "818c29e6-c134-41fb-985f-4991cdba05ae"
      },
      "outputs": [
        {
          "name": "stdout",
          "output_type": "stream",
          "text": [
            "Shape of data tensor: (42174, 20)\n"
          ]
        }
      ],
      "source": [
        "features = tokenizer.texts_to_sequences(features)\n",
        "features = pad_sequences(features, maxlen=MAX_SEQUENCE_LENGTH)\n",
        "print('Shape of data tensor:', features.shape)"
      ]
    },
    {
      "cell_type": "markdown",
      "source": [
        "Mengubah bentuk target menjadi array katogerial dengan bantuan OneHotEncoder"
      ],
      "metadata": {
        "id": "qAItrtZH9qYA"
      },
      "id": "qAItrtZH9qYA"
    },
    {
      "cell_type": "code",
      "execution_count": null,
      "id": "345d31d4",
      "metadata": {
        "id": "345d31d4",
        "outputId": "d9556171-ab7f-4e9f-b123-ce3a8b75e225"
      },
      "outputs": [
        {
          "data": {
            "text/plain": [
              "(42174, 6)"
            ]
          },
          "execution_count": 18,
          "metadata": {},
          "output_type": "execute_result"
        }
      ],
      "source": [
        "target = np.reshape(target, (-1, 1))\n",
        "target = OneHotEncoder(sparse=False).fit_transform(target)\n",
        "target.shape"
      ]
    },
    {
      "cell_type": "markdown",
      "source": [
        "Split dataset menjadi 80% training dan 20% testing"
      ],
      "metadata": {
        "id": "hlo89fC89yCu"
      },
      "id": "hlo89fC89yCu"
    },
    {
      "cell_type": "code",
      "execution_count": null,
      "id": "6c99e289",
      "metadata": {
        "id": "6c99e289",
        "outputId": "a06c2ab1-026d-477a-80cc-801f20b92986"
      },
      "outputs": [
        {
          "name": "stdout",
          "output_type": "stream",
          "text": [
            "(33739, 20) (33739, 6)\n",
            "(8435, 20) (8435, 6)\n"
          ]
        }
      ],
      "source": [
        "from sklearn.model_selection import train_test_split\n",
        "X_train, X_test, Y_train, Y_test = train_test_split(features,target, test_size = 0.2)\n",
        "print(X_train.shape,Y_train.shape)\n",
        "print(X_test.shape,Y_test.shape)"
      ]
    },
    {
      "cell_type": "markdown",
      "source": [
        "Membuat arsitektur model, melakukan training, dan save model pada variabel history"
      ],
      "metadata": {
        "id": "cTubqtSR93DR"
      },
      "id": "cTubqtSR93DR"
    },
    {
      "cell_type": "code",
      "execution_count": null,
      "id": "1dae6ccb",
      "metadata": {
        "id": "1dae6ccb",
        "outputId": "6336eea1-60f7-46cf-9623-52d47b99f4cd"
      },
      "outputs": [
        {
          "name": "stdout",
          "output_type": "stream",
          "text": [
            "Epoch 1/10\n",
            "475/475 [==============================] - 10s 16ms/step - loss: 0.6831 - accuracy: 0.7539 - val_loss: 0.1709 - val_accuracy: 0.9449\n",
            "Epoch 2/10\n",
            "475/475 [==============================] - 6s 13ms/step - loss: 0.0976 - accuracy: 0.9690 - val_loss: 0.1140 - val_accuracy: 0.9632\n",
            "Epoch 3/10\n",
            "475/475 [==============================] - 6s 13ms/step - loss: 0.0475 - accuracy: 0.9856 - val_loss: 0.1191 - val_accuracy: 0.9621\n",
            "Epoch 4/10\n",
            "475/475 [==============================] - 6s 13ms/step - loss: 0.0355 - accuracy: 0.9890 - val_loss: 0.1137 - val_accuracy: 0.9635\n",
            "Epoch 5/10\n",
            "475/475 [==============================] - 6s 13ms/step - loss: 0.0261 - accuracy: 0.9919 - val_loss: 0.1292 - val_accuracy: 0.9635\n",
            "Epoch 6/10\n",
            "475/475 [==============================] - 6s 13ms/step - loss: 0.0234 - accuracy: 0.9927 - val_loss: 0.1285 - val_accuracy: 0.9653\n",
            "Epoch 7/10\n",
            "475/475 [==============================] - 7s 14ms/step - loss: 0.0214 - accuracy: 0.9938 - val_loss: 0.1279 - val_accuracy: 0.9659\n",
            "Epoch 8/10\n",
            "475/475 [==============================] - 6s 13ms/step - loss: 0.0188 - accuracy: 0.9941 - val_loss: 0.1161 - val_accuracy: 0.9689\n",
            "Epoch 9/10\n",
            "475/475 [==============================] - 6s 13ms/step - loss: 0.0143 - accuracy: 0.9955 - val_loss: 0.1319 - val_accuracy: 0.9689\n",
            "Epoch 10/10\n",
            "475/475 [==============================] - 6s 13ms/step - loss: 0.0143 - accuracy: 0.9953 - val_loss: 0.1381 - val_accuracy: 0.9674\n"
          ]
        }
      ],
      "source": [
        "from keras.models import Sequential\n",
        "from keras.layers import Embedding, SpatialDropout1D, CuDNNLSTM, Dense\n",
        "\n",
        "model = Sequential()\n",
        "model.add(Embedding(MAX_NB_WORDS, EMBEDDING_DIM, input_length=X_train.shape[1]))\n",
        "model.add(SpatialDropout1D(0.2))\n",
        "model.add(CuDNNLSTM(100))\n",
        "model.add(Dense(6, activation='softmax'))\n",
        "model.compile(loss='categorical_crossentropy', optimizer='adam', metrics=['accuracy'])\n",
        "\n",
        "epochs = 10\n",
        "batch_size = 64\n",
        "\n",
        "history = model.fit(X_train, Y_train, epochs=epochs, batch_size=batch_size,validation_split=0.1)"
      ]
    },
    {
      "cell_type": "markdown",
      "source": [
        "Melakukan testing"
      ],
      "metadata": {
        "id": "4mNWO1wH-BTe"
      },
      "id": "4mNWO1wH-BTe"
    },
    {
      "cell_type": "code",
      "execution_count": null,
      "id": "ac0944b3",
      "metadata": {
        "id": "ac0944b3",
        "outputId": "0bcb95bc-8ca4-48ab-f5ff-a1c17cf1bd8d"
      },
      "outputs": [
        {
          "name": "stdout",
          "output_type": "stream",
          "text": [
            "264/264 [==============================] - 1s 6ms/step - loss: 0.1352 - accuracy: 0.9678\n",
            "Test set\n",
            "  Loss: 0.135\n",
            "  Accuracy: 0.968\n"
          ]
        }
      ],
      "source": [
        "accr = model.evaluate(X_test,Y_test)\n",
        "print('Test set\\n  Loss: {:0.3f}\\n  Accuracy: {:0.3f}'.format(accr[0],accr[1]))"
      ]
    },
    {
      "cell_type": "markdown",
      "source": [
        "Plotting grafik loss hasil training"
      ],
      "metadata": {
        "id": "PAVT3quh-JFD"
      },
      "id": "PAVT3quh-JFD"
    },
    {
      "cell_type": "code",
      "execution_count": null,
      "id": "6095a53e",
      "metadata": {
        "id": "6095a53e",
        "outputId": "512c29ba-78a7-470a-ff57-54e9e3d977e6"
      },
      "outputs": [
        {
          "data": {
            "image/png": "[encoded data removed]",
            "text/plain": [
              "<Figure size 432x288 with 1 Axes>"
            ]
          },
          "metadata": {
            "needs_background": "light"
          },
          "output_type": "display_data"
        }
      ],
      "source": [
        "from matplotlib import pyplot as plt\n",
        "plt.title('Loss')\n",
        "plt.plot(history.history['loss'], label='train')\n",
        "plt.plot(history.history['val_loss'], label='test')\n",
        "plt.legend()\n",
        "plt.show()"
      ]
    },
    {
      "cell_type": "markdown",
      "source": [
        "Plotting grafik akurasi hasil training"
      ],
      "metadata": {
        "id": "Uelz3yG1-Mkl"
      },
      "id": "Uelz3yG1-Mkl"
    },
    {
      "cell_type": "code",
      "execution_count": null,
      "id": "fb38c7bc",
      "metadata": {
        "id": "fb38c7bc",
        "outputId": "80c4cd9d-b95e-44dd-b2c9-e64071736277"
      },
      "outputs": [
        {
          "data": {
            "image/png": "[encoded data removed]",
            "text/plain": [
              "<Figure size 432x288 with 1 Axes>"
            ]
          },
          "metadata": {
            "needs_background": "light"
          },
          "output_type": "display_data"
        }
      ],
      "source": [
        "plt.title('Accuracy')\n",
        "plt.plot(history.history['accuracy'], label='train')\n",
        "plt.plot(history.history['val_accuracy'], label='test')\n",
        "plt.legend()\n",
        "plt.show();"
      ]
    },
    {
      "cell_type": "code",
      "execution_count": null,
      "id": "c16b8460",
      "metadata": {
        "id": "c16b8460"
      },
      "outputs": [],
      "source": [
        ""
      ]
    }
  ],
  "metadata": {
    "kernelspec": {
      "display_name": "Python 3",
      "language": "python",
      "name": "python3"
    },
    "language_info": {
      "codemirror_mode": {
        "name": "ipython",
        "version": 3
      },
      "file_extension": ".py",
      "mimetype": "text/x-python",
      "name": "python",
      "nbconvert_exporter": "python",
      "pygments_lexer": "ipython3",
      "version": "3.7.6"
    },
    "colab": {
      "name": "Emotion Classification LSTM - Information Retrieval.ipynb",
      "provenance": [],
      "collapsed_sections": [],
      "include_colab_link": true
    }
  },
  "nbformat": 4,
  "nbformat_minor": 5
}